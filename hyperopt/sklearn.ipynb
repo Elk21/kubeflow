{
 "cells": [
  {
   "cell_type": "code",
   "execution_count": null,
   "id": "constitutional-opinion",
   "metadata": {
    "collapsed": false,
    "jupyter": {
     "outputs_hidden": false
    }
   },
   "outputs": [],
   "source": [
    "import numpy as np\n",
    "import skdata.iris.view\n",
    "import hyperopt.tpe\n",
    "import hpsklearn\n",
    "import hpsklearn.demo_support\n",
    "import time"
   ]
  },
  {
   "cell_type": "code",
   "execution_count": null,
   "id": "dangerous-assets",
   "metadata": {
    "collapsed": false,
    "jupyter": {
     "outputs_hidden": false
    }
   },
   "outputs": [],
   "source": [
    "data_view = skdata.iris.view.KfoldClassification(4)\n",
    "attrs = 'petal_length', 'petal_width', 'sepal_length', 'sepal_width'\n",
    "labels = 'setosa', 'versicolor', 'virginica'\n",
    "X_all = np.asarray([map(d.__getitem__, attrs) for d in data_view.dataset.meta])\n",
    "y_all = np.asarray([labels.index(d['name']) for d in data_view.dataset.meta])\n",
    "idx_all = np.random.RandomState(1).permutation(len(y_all))\n",
    "idx_train = idx_all[:int(.8 * len(y_all))]\n",
    "idx_test = idx_all[int(.8 *  len(y_all)):]\n",
    "\n",
    "# TRAIN AND TEST DATA\n",
    "X_train = X_all[idx_train]\n",
    "y_train = y_all[idx_train]\n",
    "X_test = X_all[idx_test]\n",
    "y_test = y_all[idx_test]"
   ]
  },
  {
   "cell_type": "code",
   "execution_count": null,
   "id": "permanent-stage",
   "metadata": {
    "collapsed": false,
    "jupyter": {
     "outputs_hidden": false
    }
   },
   "outputs": [],
   "source": [
    "estimator = hpsklearn.HyperoptEstimator(\n",
    "    preprocessing=hpsklearn.components.any_preprocessing('pp'),\n",
    "    classifier=hpsklearn.components.any_classifier('clf'),\n",
    "    algo=hyperopt.tpe.suggest,\n",
    "    trial_timeout=15.0,\n",
    "    max_evals=15,\n",
    "    )"
   ]
  },
  {
   "cell_type": "code",
   "execution_count": null,
   "id": "engaged-finance",
   "metadata": {
    "collapsed": false,
    "jupyter": {
     "outputs_hidden": false
    }
   },
   "outputs": [],
   "source": [
    "fit_iterator = estimator.fit_iter(X_train,y_train)\n",
    "fit_iterator.next()\n",
    "plot_helper = hpsklearn.demo_support.PlotHelper(estimator,\n",
    "                                                mintodate_ylim=(-.01, .05))\n",
    "while len(estimator.trials.trials) < estimator.max_evals:\n",
    "    fit_iterator.send(1) \n",
    "    plot_helper.post_iter()\n",
    "plot_helper.post_loop()\n",
    "\n",
    "estimator.retrain_best_model_on_full_data(X_train, y_train)"
   ]
  },
  {
   "cell_type": "code",
   "execution_count": null,
   "id": "younger-sample",
   "metadata": {
    "collapsed": false,
    "jupyter": {
     "outputs_hidden": false
    }
   },
   "outputs": [],
   "source": [
    "print 'Best preprocessing pipeline:'\n",
    "for pp in estimator._best_preprocs:\n",
    "    print pp\n",
    "print\n",
    "print 'Best classifier:\\n', estimator._best_learner\n",
    "test_predictions = estimator.predict(X_test)\n",
    "acc_in_percent = 100 * np.mean(test_predictions == y_test)\n",
    "print\n",
    "print 'Prediction accuracy in generalization is %.1f%%' % acc_in_percent"
   ]
  }
 ],
 "metadata": {
  "kernelspec": {
   "display_name": "Python 3",
   "language": "python",
   "name": "python3"
  },
  "language_info": {
   "codemirror_mode": {
    "name": "ipython",
    "version": 3
   },
   "file_extension": ".py",
   "mimetype": "text/x-python",
   "name": "python",
   "nbconvert_exporter": "python",
   "pygments_lexer": "ipython3",
   "version": "3.8.6"
  }
 },
 "nbformat": 4,
 "nbformat_minor": 5
}
